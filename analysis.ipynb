{
  "cells": [
    {
      "cell_type": "markdown",
      "metadata": {},
      "source": [
        "# Employee Data Analysis\n",
        "This notebook performs a full data analysis workflow on `employees.csv`.\n"
      ]
    },
    {
      "cell_type": "code",
      "execution_count": null,
      "metadata": {},
      "outputs": [],
      "source": [
        "import pandas as pd\n",
        "import numpy as np\n",
        "import matplotlib.pyplot as plt\n",
        "from sklearn.linear_model import LogisticRegression\n",
        "from sklearn.model_selection import train_test_split\n",
        "from sklearn.preprocessing import LabelEncoder\n",
        "\n",
        "# Load data\n",
        "df = pd.read_csv('employees.csv', parse_dates=['HireDate'])\n",
        "df.head()\n"
      ]
    },
    {
      "cell_type": "markdown",
      "metadata": {},
      "source": [
        "## Data Cleaning\n",
        "- Convert types, handle missing ManagerID, create hire_year and tenure\n"
      ]
    },
    {
      "cell_type": "code",
      "execution_count": null,
      "metadata": {},
      "outputs": [],
      "source": [
        "df['ManagerID'] = df['ManagerID'].replace('', np.nan)\n",
        "df['HireDate'] = pd.to_datetime(df['HireDate'])\n",
        "df['hire_year'] = df['HireDate'].dt.year\n",
        "df['tenure_years'] = (pd.Timestamp('today') - df['HireDate']).dt.days // 365\n",
        "df['Department'] = df['Department'].astype('category')\n",
        "df['Role'] = df['Role'].astype('category')\n",
        "df.head()\n"
      ]
    },
    {
      "cell_type": "markdown",
      "metadata": {},
      "source": [
        "## Exploratory Data Analysis\n",
        "- Counts, distributions, and hiring trends\n"
      ]
    },
    {
      "cell_type": "code",
      "execution_count": null,
      "metadata": {},
      "outputs": [],
      "source": [
        "print('Employees per Department:\\n', df['Department'].value_counts())\n",
        "df['hire_year'].value_counts().sort_index().plot(kind='bar', figsize=(10,4));\n",
        "plt.title('Hires by Year')\n",
        "plt.show()\n"
      ]
    },
    {
      "cell_type": "markdown",
      "metadata": {},
      "source": [
        "## Feature Engineering\n",
        "- Create direct_reports_count for managers\n"
      ]
    },
    {
      "cell_type": "code",
      "execution_count": null,
      "metadata": {},
      "outputs": [],
      "source": [
        "df['ManagerID'] = df['ManagerID'].astype('float').astype(pd.Int64Dtype())\n",
        "reports = df.groupby('ManagerID')['EmployeeID'].count().rename('direct_reports_count')\n",
        "df = df.merge(reports, left_on='EmployeeID', right_on='ManagerID', how='left')\n",
        "df['direct_reports_count'] = df['direct_reports_count'].fillna(0).astype(int)\n",
        "df.head()\n"
      ]
    },
    {
      "cell_type": "markdown",
      "metadata": {},
      "source": [
        "## Simple Predictive Example\n",
        "Predict whether an employee is a manager (`Role` contains 'Manager') using tenure and department.\n"
      ]
    },
    {
      "cell_type": "code",
      "execution_count": null,
      "metadata": {},
      "outputs": [],
      "source": [
        "df['is_manager'] = df['Role'].str.contains('Manager').astype(int)\n",
        "le = LabelEncoder()\n",
        "X = pd.DataFrame({\n",
        "    'tenure': df['tenure_years'],\n",
        "    'dept': le.fit_transform(df['Department'])\n",
        "})\n",
        "y = df['is_manager']\n",
        "X_train, X_test, y_train, y_test = train_test_split(X, y, test_size=0.2, random_state=42)\n",
        "model = LogisticRegression()\n",
        "model.fit(X_train, y_train)\n",
        "print('Test accuracy:', model.score(X_test, y_test))\n"
      ]
    }
  ],
  "metadata": {
    "kernelspec": {
      "display_name": "Python 3",
      "language": "python",
      "name": "python3"
    },
    "language_info": {
      "name": "python",
      "version": "3.10"
    }
  },
  "nbformat": 4,
  "nbformat_minor": 5
}